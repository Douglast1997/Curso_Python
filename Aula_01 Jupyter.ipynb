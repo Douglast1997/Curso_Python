{
 "cells": [
  {
   "cell_type": "markdown",
   "metadata": {},
   "source": [
    "# Jupyter\n",
    "---------------"
   ]
  },
  {
   "cell_type": "markdown",
   "metadata": {},
   "source": [
    "## Instalação e Execução\n",
    "------"
   ]
  },
  {
   "cell_type": "markdown",
   "metadata": {},
   "source": [
    "* [Instalar Pacote Anaconda](https://www.anaconda.com/download/)\n",
    "* Ir para o diretório de dados \n",
    "* Executar no prompt de comando ´jupyter notebook`"
   ]
  },
  {
   "cell_type": "markdown",
   "metadata": {},
   "source": [
    "### Jupyter Kernels\n",
    "--------------------"
   ]
  },
  {
   "cell_type": "markdown",
   "metadata": {},
   "source": [
    "* Python\n",
    "* Julia\n",
    "* R\n",
    "* C#\n",
    "* F#\n",
    "* Scala\n",
    "* Haskell\n",
    "* etc...\n",
    "\n",
    "Você pode verificar os Kernels em [Jupyter Kernels](https://github.com/jupyter/jupyter/wiki/Jupyter-kernels)"
   ]
  },
  {
   "cell_type": "markdown",
   "metadata": {},
   "source": [
    "## Jupyter Cells (Markdown vs Code)"
   ]
  },
  {
   "cell_type": "markdown",
   "metadata": {},
   "source": [
    "* Markdown (short cut = <mark>M</mark>)\n",
    "* Code (short cut = <mark>Y</mark>)\n",
    "* Executar Células (short cut = <mark>Shift + Enter</mark>)"
   ]
  },
  {
   "cell_type": "markdown",
   "metadata": {},
   "source": [
    "### Latex Markdown\n",
    "\n",
    "$e^{i\\pi} + 1 = 0$"
   ]
  },
  {
   "cell_type": "markdown",
   "metadata": {},
   "source": [
    "### Código Markdown"
   ]
  },
  {
   "cell_type": "markdown",
   "metadata": {},
   "source": [
    "Exemplo : Python\n",
    "```python\n",
    "print \"Hello World\"\n",
    "```\n",
    "Exemplo : Javascript\n",
    "```javascript\n",
    "console.log(\"Hello World\")\n",
    "```"
   ]
  },
  {
   "cell_type": "markdown",
   "metadata": {},
   "source": [
    "### Tabelas\n",
    "\n",
    "| Aluno | Prova | Nota         \n",
    "| :- |-------------: | :-:\n",
    "|Robson Dias | PCOM  | 8.5\n",
    "| Daniel | PCOM | 10.0\n",
    "| Lizandro | PCOM2 | 10.0\n"
   ]
  },
  {
   "cell_type": "markdown",
   "metadata": {},
   "source": [
    "## Videos\n",
    "<video controls src=\"./videos/video1.mp4\" />"
   ]
  },
  {
   "cell_type": "markdown",
   "metadata": {},
   "source": [
    "## Imagens\n",
    "\n",
    "<img style=\"float: left;\" src=\"./imagens/jupyter-sq-text.png\",width=60,height=60/>\n"
   ]
  },
  {
   "cell_type": "markdown",
   "metadata": {},
   "source": [
    "### Principais Atalhos"
   ]
  },
  {
   "cell_type": "markdown",
   "metadata": {},
   "source": [
    "* Executar Célula (<mark>CTR + ENTER</mark>)\n",
    "* Inserir Célula Acima (<mark>A</mark>)\n",
    "* Inserir Célula Abaixo (<mark>B</mark>)\n",
    "* Markdown (<mark>M</mark>)\n",
    "* Código (<mark>Y</mark>)\n",
    "* Apagar Céluda (<mark>D+D</mark>)\n",
    "* Retorna última Celula apagada (<mark>Z</mark>)\n",
    "* Copiar Célula (<mark>C</mark>)\n",
    "* Salvar (<mark>CTR + S</mark>)\n"
   ]
  },
  {
   "cell_type": "markdown",
   "metadata": {},
   "source": [
    "## M"
   ]
  },
  {
   "cell_type": "code",
   "execution_count": null,
   "metadata": {
    "collapsed": true
   },
   "outputs": [],
   "source": []
  }
 ],
 "metadata": {
  "kernelspec": {
   "display_name": "Python 3",
   "language": "python",
   "name": "python3"
  },
  "language_info": {
   "codemirror_mode": {
    "name": "ipython",
    "version": 3
   },
   "file_extension": ".py",
   "mimetype": "text/x-python",
   "name": "python",
   "nbconvert_exporter": "python",
   "pygments_lexer": "ipython3",
   "version": "3.6.1"
  }
 },
 "nbformat": 4,
 "nbformat_minor": 2
}
