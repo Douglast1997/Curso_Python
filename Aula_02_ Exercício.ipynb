{
 "cells": [
  {
   "cell_type": "markdown",
   "metadata": {},
   "source": [
    "### Exercício \n",
    "------------------\n",
    "Faça uma função em Python que receba um string (frase) e:\n",
    "* a) Passe Todas as letras iniciais de palavras para maiúsculas;\n",
    "* b) Todas as outras letras devem ficar com exceção das inicias devem ficar em minusculas;\n",
    "* c) Os artigos isolados, exceto se for a primeira letra da frase, devem ficar em minúsculo.\n",
    "\n",
    "**Exemplo 1** : \n",
    "* entrada : \"a grande partidA\"\n",
    "* Saída : \"A Grande Partida\"\n",
    "\n",
    "**Exemplo 2** : \n",
    "* entrada : \"o livro E o garato\"\n",
    "* Saída : \"O Livro  e o Garoto\"\n",
    "\n"
   ]
  },
  {
   "cell_type": "code",
   "execution_count": null,
   "metadata": {
    "collapsed": true
   },
   "outputs": [],
   "source": []
  }
 ],
 "metadata": {
  "kernelspec": {
   "display_name": "Python 3",
   "language": "python",
   "name": "python3"
  },
  "language_info": {
   "codemirror_mode": {
    "name": "ipython",
    "version": 3
   },
   "file_extension": ".py",
   "mimetype": "text/x-python",
   "name": "python",
   "nbconvert_exporter": "python",
   "pygments_lexer": "ipython3",
   "version": "3.6.1"
  }
 },
 "nbformat": 4,
 "nbformat_minor": 2
}
