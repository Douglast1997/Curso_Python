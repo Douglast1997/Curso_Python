{
 "cells": [
  {
   "cell_type": "markdown",
   "metadata": {},
   "source": [
    "### Faça a importação do panda como pd\n",
    "### Faça a importação do numpy como np"
   ]
  },
  {
   "cell_type": "code",
   "execution_count": null,
   "metadata": {
    "collapsed": true
   },
   "outputs": [],
   "source": []
  },
  {
   "cell_type": "markdown",
   "metadata": {},
   "source": [
    "* **Ajuste o seed do numpy para 201 **\n",
    "* **Crie uma série em panda a partir de vetor de 100 números aleatórios de 0 a 1. **\n"
   ]
  },
  {
   "cell_type": "code",
   "execution_count": 7,
   "metadata": {},
   "outputs": [],
   "source": [
    "# Dadas as Séries \n",
    "nProva1 = pd.Series(data=[5,10,9], index=['AL01','AL02','AL03'])\n",
    "nProva2 = pd.Series(data=[4,6,4], index=['AL01','AL02','AL03'])\n"
   ]
  },
  {
   "cell_type": "markdown",
   "metadata": {},
   "source": [
    "* (a) Calcule a Nota percentual de Cada Aluno nas Provas 1 e 2 em relação à Nota Máxima;\n",
    "* (b) Calcule a Nota Normalizada de Cada Aluno nas Provas 1 e 2;"
   ]
  },
  {
   "cell_type": "code",
   "execution_count": 8,
   "metadata": {},
   "outputs": [
    {
     "data": {
      "text/html": [
       "<div>\n",
       "<style>\n",
       "    .dataframe thead tr:only-child th {\n",
       "        text-align: right;\n",
       "    }\n",
       "\n",
       "    .dataframe thead th {\n",
       "        text-align: left;\n",
       "    }\n",
       "\n",
       "    .dataframe tbody tr th {\n",
       "        vertical-align: top;\n",
       "    }\n",
       "</style>\n",
       "<table border=\"1\" class=\"dataframe\">\n",
       "  <thead>\n",
       "    <tr style=\"text-align: right;\">\n",
       "      <th></th>\n",
       "      <th>P1</th>\n",
       "      <th>P2</th>\n",
       "      <th>P3</th>\n",
       "    </tr>\n",
       "  </thead>\n",
       "  <tbody>\n",
       "    <tr>\n",
       "      <th>AL01</th>\n",
       "      <td>5.434049</td>\n",
       "      <td>2.783694</td>\n",
       "      <td>4.245176</td>\n",
       "    </tr>\n",
       "    <tr>\n",
       "      <th>AL02</th>\n",
       "      <td>8.447761</td>\n",
       "      <td>0.047189</td>\n",
       "      <td>1.215691</td>\n",
       "    </tr>\n",
       "    <tr>\n",
       "      <th>AL03</th>\n",
       "      <td>6.707491</td>\n",
       "      <td>8.258528</td>\n",
       "      <td>1.367066</td>\n",
       "    </tr>\n",
       "    <tr>\n",
       "      <th>AL04</th>\n",
       "      <td>5.750933</td>\n",
       "      <td>8.913220</td>\n",
       "      <td>2.092021</td>\n",
       "    </tr>\n",
       "    <tr>\n",
       "      <th>AL05</th>\n",
       "      <td>1.853282</td>\n",
       "      <td>1.083769</td>\n",
       "      <td>2.196975</td>\n",
       "    </tr>\n",
       "  </tbody>\n",
       "</table>\n",
       "</div>"
      ],
      "text/plain": [
       "            P1        P2        P3\n",
       "AL01  5.434049  2.783694  4.245176\n",
       "AL02  8.447761  0.047189  1.215691\n",
       "AL03  6.707491  8.258528  1.367066\n",
       "AL04  5.750933  8.913220  2.092021\n",
       "AL05  1.853282  1.083769  2.196975"
      ]
     },
     "execution_count": 8,
     "metadata": {},
     "output_type": "execute_result"
    }
   ],
   "source": [
    "# Dadas o dataframe\n",
    "np.random.seed(100)\n",
    "dados = np.random.rand(5,3)*10\n",
    "colunas = ['P1','P2','P3']\n",
    "index = ['AL01','AL02','AL03','AL04','AL05']\n",
    "df = pd.DataFrame(dados,index,colunas)\n",
    "df\n"
   ]
  },
  {
   "cell_type": "markdown",
   "metadata": {},
   "source": [
    "* (a) Calcue a média de cada prova;\n",
    "* (b) Calcule a média de cada aluno.\n",
    "* (c) Liste os alunos com nota em P2 abaixo da média.\n",
    "* (d) Ordene o dataframe por P3\n",
    "* (e) Crie um nova coluna com a média do aluno."
   ]
  },
  {
   "cell_type": "code",
   "execution_count": 14,
   "metadata": {},
   "outputs": [
    {
     "data": {
      "text/html": [
       "<div>\n",
       "<style>\n",
       "    .dataframe thead tr:only-child th {\n",
       "        text-align: right;\n",
       "    }\n",
       "\n",
       "    .dataframe thead th {\n",
       "        text-align: left;\n",
       "    }\n",
       "\n",
       "    .dataframe tbody tr th {\n",
       "        vertical-align: top;\n",
       "    }\n",
       "</style>\n",
       "<table border=\"1\" class=\"dataframe\">\n",
       "  <thead>\n",
       "    <tr style=\"text-align: right;\">\n",
       "      <th></th>\n",
       "      <th>A</th>\n",
       "      <th>B</th>\n",
       "      <th>C</th>\n",
       "      <th>D</th>\n",
       "    </tr>\n",
       "  </thead>\n",
       "  <tbody>\n",
       "    <tr>\n",
       "      <th>0</th>\n",
       "      <td>1.0</td>\n",
       "      <td>2.0</td>\n",
       "      <td>3</td>\n",
       "      <td>NaN</td>\n",
       "    </tr>\n",
       "    <tr>\n",
       "      <th>1</th>\n",
       "      <td>2.0</td>\n",
       "      <td>4.0</td>\n",
       "      <td>4</td>\n",
       "      <td>1.0</td>\n",
       "    </tr>\n",
       "    <tr>\n",
       "      <th>2</th>\n",
       "      <td>NaN</td>\n",
       "      <td>NaN</td>\n",
       "      <td>4</td>\n",
       "      <td>2.0</td>\n",
       "    </tr>\n",
       "  </tbody>\n",
       "</table>\n",
       "</div>"
      ],
      "text/plain": [
       "     A    B  C    D\n",
       "0  1.0  2.0  3  NaN\n",
       "1  2.0  4.0  4  1.0\n",
       "2  NaN  NaN  4  2.0"
      ]
     },
     "execution_count": 14,
     "metadata": {},
     "output_type": "execute_result"
    }
   ],
   "source": [
    "# Dados o dataFrame abaixo\n",
    "dic = {'A':[1,2,np.nan],'B':[2,4,np.nan],'C':[3,4,4],'D':[np.nan,1,2]}\n",
    "df = pd.DataFrame(dic)\n",
    "df"
   ]
  },
  {
   "cell_type": "markdown",
   "metadata": {},
   "source": [
    "* **Selecione as linhas sem NAN**\n",
    "* **Selecione as colunas sem NAN**"
   ]
  },
  {
   "cell_type": "code",
   "execution_count": null,
   "metadata": {
    "collapsed": true
   },
   "outputs": [],
   "source": [
    "# Dados o dataFrame abaixo\n",
    "dic = {'Metodo':['KNN','SVR','ANN','KNN','SVR','ANN'],\n",
    "        'Cenario':['C1','C2','C1','C2','C1','C2'],\n",
    "        'Erro':[2.1,2.1,1.5,1.7,1.8,1.9]}\n",
    "df = pd.DataFrame(dic)"
   ]
  },
  {
   "cell_type": "markdown",
   "metadata": {},
   "source": [
    "**Calcule:**\n",
    "\n",
    "* Erro média de cada método;\n",
    "* Erro médio de cada cenário.\n"
   ]
  },
  {
   "cell_type": "code",
   "execution_count": null,
   "metadata": {
    "collapsed": true
   },
   "outputs": [],
   "source": []
  }
 ],
 "metadata": {
  "kernelspec": {
   "display_name": "Python 3",
   "language": "python",
   "name": "python3"
  },
  "language_info": {
   "codemirror_mode": {
    "name": "ipython",
    "version": 3
   },
   "file_extension": ".py",
   "mimetype": "text/x-python",
   "name": "python",
   "nbconvert_exporter": "python",
   "pygments_lexer": "ipython3",
   "version": "3.6.1"
  }
 },
 "nbformat": 4,
 "nbformat_minor": 2
}
